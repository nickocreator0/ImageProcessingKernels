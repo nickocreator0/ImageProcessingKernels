{
 "cells": [
  {
   "cell_type": "code",
   "execution_count": 1,
   "id": "ee919019-38b9-4da5-97bc-53e8526c6743",
   "metadata": {},
   "outputs": [],
   "source": [
    "import pandas as pd\n",
    "import numpy as np\n",
    "from decimal import Decimal"
   ]
  },
  {
   "cell_type": "code",
   "execution_count": 2,
   "id": "32c7b794-11ef-40d5-a8aa-1cf1ae0daba3",
   "metadata": {},
   "outputs": [],
   "source": [
    "def convolve(img, kernel):\n",
    "    img_np = np.array(img)\n",
    "    kernel_np = np.array(kernel)\n",
    "    res = np.sum(np.dot(img_np, kernel_np))\n",
    "    return res"
   ]
  },
  {
   "cell_type": "code",
   "execution_count": 3,
   "id": "ed1d44c2-c7c1-45f4-b073-5461b34d39f5",
   "metadata": {},
   "outputs": [],
   "source": [
    "def median_smoothing(img):\n",
    "    #img = [12,22,15,12,17,22,13,33,24]\n",
    "    img.sort()\n",
    "    mid_index = int(len(img)/2)\n",
    "    one_pixel = img[mid_index]\n",
    "    three_pixel = (img[mid_index] + img[mid_index+1] + img[mid_index-1])/3\n",
    "    five_pixel = (img[mid_index] + img[mid_index+1] + img[mid_index-1] + img[mid_index-2] + img[mid_index+2])/5 \n",
    "    print(f\"one_pixel = {one_pixel}\")\n",
    "    print(f\"three_pixel = {three_pixel}\")\n",
    "    print(f\"five_pixel = {five_pixel}\")"
   ]
  },
  {
   "cell_type": "code",
   "execution_count": 4,
   "id": "dcb77b26-995e-4787-be61-95fc9929adb6",
   "metadata": {},
   "outputs": [],
   "source": [
    "def mean_smoothing(img, weight):\n",
    "    sum_ = 0\n",
    "    for item in range(len(img)):\n",
    "        sum_ += img[item]\n",
    "    noise = int(sum_/(weight+8))+1\n",
    "    other_pixels = int((sum_-noise)/8)+1\n",
    "    print(f\" noise = {noise}\")\n",
    "    print(f\"others = {other_pixels}\")"
   ]
  },
  {
   "cell_type": "code",
   "execution_count": 5,
   "id": "0e54e3c9-cf2a-4449-ad32-267aa6250cf3",
   "metadata": {},
   "outputs": [],
   "source": [
    "def gamma(pix, g):\n",
    "    pix_new = round(255*((pix/255)**(1/g)))\n",
    "    if pix_new > 255:\n",
    "        pix_new = 255\n",
    "    elif pix_new < 0:\n",
    "        pix_new = 0\n",
    "    print(f\"gammad!= {pix_new}\")"
   ]
  },
  {
   "cell_type": "code",
   "execution_count": 6,
   "id": "13e6a6ee-46ed-43be-a783-96b42ec46f62",
   "metadata": {},
   "outputs": [],
   "source": [
    "def sobel(img, x_kernel, y_kernel):\n",
    "    res_x = convolve(img, x_kernel)\n",
    "    res_y = convolve(img, y_kernel)\n",
    "    \n",
    "    pix = (res_x**2 + res_y**2)**(1/2)\n",
    "    \n",
    "    #Truncation\n",
    "    if pix > 255:\n",
    "        pix = 255\n",
    "    elif pix < 0:\n",
    "        pix = 0\n",
    "    print(f\"sobeled= {pix}\")"
   ]
  },
  {
   "cell_type": "code",
   "execution_count": 7,
   "id": "f42c5c4f-1aa0-41cb-a88a-3420f5db2d57",
   "metadata": {},
   "outputs": [],
   "source": [
    "def laplacian(img, kernel):\n",
    "    pix = convolve(img, kernel)\n",
    "    #Truncation\n",
    "    if pix > 255:\n",
    "        pix = 255\n",
    "    elif pix < 0:\n",
    "        pix = 0\n",
    "    print(f\"Laplacian= {pix}\")\n",
    "    "
   ]
  },
  {
   "cell_type": "code",
   "execution_count": 8,
   "id": "b6101177-33ba-4c30-96fe-2f95de7ab21c",
   "metadata": {},
   "outputs": [],
   "source": [
    "def contrast(pixel, c):\n",
    "    f = (259*(c+255))/(255*(255-c))\n",
    "    pix = round(f*(pixel - 128)+128)\n",
    "    #Truncation\n",
    "    if pix > 255:\n",
    "        pix = 255\n",
    "    elif pix < 0:\n",
    "        pix = 0\n",
    "    print(f\"contrasted: {pix}\")"
   ]
  },
  {
   "cell_type": "code",
   "execution_count": 9,
   "id": "8a43dc92-66f4-4d4b-96b1-2636d6c67e71",
   "metadata": {},
   "outputs": [],
   "source": [
    "def sharpen(img, kernel, given):\n",
    "    id_k = [0,0,0,0,1,0,0,0,0]\n",
    "    identity_kernel = np.array(id_k)\n",
    "    k_np = np.array(kernel)\n",
    "    if given == False:\n",
    "        ker = identity_kernel - k_np \n",
    "    else:\n",
    "        ker = k_np\n",
    "    \n",
    "    pix = convolve(img, ker)\n",
    "    #Truncation\n",
    "    if pix > 255:\n",
    "        pix = 255\n",
    "    elif pix < 0:\n",
    "        pix = 0\n",
    "    print(f\"sharpened: {pix}\")"
   ]
  },
  {
   "cell_type": "code",
   "execution_count": 10,
   "id": "46627faf-cff2-4428-825e-83a0394d7432",
   "metadata": {},
   "outputs": [],
   "source": [
    "def cov_mat(x):\n",
    "    x_ = np.array(x)\n",
    "    x_bar = []\n",
    "    for i in range(x_.shape[0]):\n",
    "        row_sum = 0\n",
    "        for j in range(x_.shape[1]):\n",
    "            row_sum += x_[i][j]\n",
    "        mean = round(row_sum/x_.shape[1])\n",
    "        x_bar.append(mean)\n",
    "    #print(x_bar)\n",
    "\n",
    "\n",
    "\n",
    "    #Convert x_bar to a numpy array\n",
    "    temp = np.array(x_bar)\n",
    "    x_bar_np = np.transpose([temp] * 3)\n",
    "\n",
    "    A_mat = np.array(x_ - x_bar_np)\n",
    "    print(\"x bar:\")\n",
    "    print(x_bar_np)\n",
    "    #print(x_bar_np)\n",
    "    print(\"A:\")\n",
    "    print(A_mat)\n",
    "\n",
    "    A_trans = np.transpose(A_mat)\n",
    "    print(\"A T:\")\n",
    "    print(A_trans)\n",
    "    cov_matrix = np.matmul(A_trans, A_mat)\n",
    "    print(f\"cov_matrix:\")\n",
    "    print(cov_matrix)\n",
    "    #return A_mat"
   ]
  },
  {
   "cell_type": "code",
   "execution_count": 11,
   "id": "d12bf99c-b247-4bc6-8fc8-be3d2f3c6b3e",
   "metadata": {},
   "outputs": [],
   "source": [
    "def projection_space(face_space, A_mat):\n",
    "    U = np.array(face_space)\n",
    "    projection = np.matmul(np.transpose(U), A_mat)\n",
    "    print(f\"projection: {projection}\")"
   ]
  },
  {
   "cell_type": "code",
   "execution_count": 14,
   "id": "51b67837-59cf-4c61-80d1-c90296094c31",
   "metadata": {},
   "outputs": [],
   "source": [
    "from scipy.signal import convolve2d\n",
    "\n",
    "def bilinear(img, k, scale_factor):\n",
    "    # Convert the input lists to numpy arrays\n",
    "    image = np.array(img)\n",
    "    kernel = np.array(k)\n",
    "    # First get the Nearest Neighbor Interpolation\n",
    "    upscaled = np.repeat(np.repeat(image, scale_factor, axis=0), scale_factor, axis=1)\n",
    "    # Apply Bilinear\n",
    "    new_image = convolve2d(upscaled, kernel)/4\n",
    "\n",
    "    print(new_image[1:, 1:])"
   ]
  },
  {
   "cell_type": "code",
   "execution_count": 21,
   "id": "7ab98947-b5ec-492f-b41c-fe0a6e642606",
   "metadata": {},
   "outputs": [
    {
     "data": {
      "text/plain": [
       "'\\nU = [[17,12,12],\\n     [12,14,6],\\n     [25,12,23]]\\nprojection_space(U, cov_mat(x)) #uncomment return in cov_mat\\n'"
      ]
     },
     "execution_count": 21,
     "metadata": {},
     "output_type": "execute_result"
    }
   ],
   "source": [
    "#img = [22,1,24,12,27,24,30,35,23]\n",
    "\n",
    "\n",
    "#median_smoothing(img)\n",
    "######################################\n",
    "#gamma(30,.5)\n",
    "######################################\n",
    "#x_k = [-1, 0, 1, -2, 0, 2, -1, 0, 1]\n",
    "#y_k = [1, 2, 1, 0, 0, 0, -1, -2, -1]\n",
    "#sobel(img, x_k, y_k)\n",
    "######################################\n",
    "#kernel_lap = [0,-1,0,-1,4,-1,0,-1,0]\n",
    "#laplacian(img, kernel_lap)\n",
    "######################################\n",
    "#contrast(120, 50) #(pixel, C)\n",
    "######################################\n",
    "#kernel_sharp = [0,-1,0,-1,5,-1,0,-1,0]\n",
    "#sharpen(img, kernel_sharp, True) #given\n",
    "######################################\n",
    "\"\"\"\n",
    "x = [[17,12,12],\n",
    "     [12,14,6],\n",
    "     [25,12,23],\n",
    "     [30,11,67],\n",
    "     [11,1,3],\n",
    "     [12,6,68],\n",
    "     [17,2,24],\n",
    "     [19,-2,23],\n",
    "     [15,9,45]]\n",
    "\n",
    "cov_mat(x)\n",
    "\"\"\"\n",
    "######################################\n",
    "\"\"\"\n",
    "U = [[17,12,12],\n",
    "     [12,14,6],\n",
    "     [25,12,23]]\n",
    "projection_space(U, cov_mat(x)) #uncomment return in cov_mat\n",
    "\"\"\"\n",
    "\n",
    "######################################\n",
    "#img1 = [[1,3],[4,5]]\n",
    "#k = [[1,1],[1,1]]\n",
    "#bilinear(img1, k, 2)   #img, kernel, scale_factor"
   ]
  }
 ],
 "metadata": {
  "kernelspec": {
   "display_name": "Python 3 (ipykernel)",
   "language": "python",
   "name": "python3"
  },
  "language_info": {
   "codemirror_mode": {
    "name": "ipython",
    "version": 3
   },
   "file_extension": ".py",
   "mimetype": "text/x-python",
   "name": "python",
   "nbconvert_exporter": "python",
   "pygments_lexer": "ipython3",
   "version": "3.9.13"
  }
 },
 "nbformat": 4,
 "nbformat_minor": 5
}
